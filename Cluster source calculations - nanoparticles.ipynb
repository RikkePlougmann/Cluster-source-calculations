{
 "cells": [
  {
   "cell_type": "code",
   "execution_count": 64,
   "metadata": {},
   "outputs": [],
   "source": [
    "# Import relevant packages\n",
    "import numpy as np \n",
    "import os  # This specifies the name as os by default if no other name is given\n",
    "import matplotlib.pyplot as plt # or use 'from matplotlib.pyplot import plot' to only import that part, \n",
    "                                # and then can just use 'plot' by itself\n",
    "import math"
   ]
  },
  {
   "cell_type": "markdown",
   "metadata": {},
   "source": [
    "# Calculate mass in amu from nanoparticle diameter"
   ]
  },
  {
   "cell_type": "code",
   "execution_count": 60,
   "metadata": {},
   "outputs": [],
   "source": [
    "######################################################## ENTER VALUES\n",
    "# Input variables - information about the metal and nanoparticles\n",
    "\n",
    "# bulk density of the metal\n",
    "density = 21.45 # g/cm3\n",
    "\n",
    "# desired particle size (diameter)\n",
    "diameter = 5 # nm\n",
    "######################################################## "
   ]
  },
  {
   "cell_type": "code",
   "execution_count": 61,
   "metadata": {
    "scrolled": true
   },
   "outputs": [
    {
     "name": "stdout",
     "output_type": "stream",
     "text": [
      "845562.221538714\n"
     ]
    }
   ],
   "source": [
    "D = (density/1000)*(10**6) # density in kg/m3\n",
    "r = diameter/2 # nm\n",
    "V = ((4/3)*math.pi)*(r*10**(-9))**3 # m^3\n",
    "mass = D*V # kg\n",
    "\n",
    "amukg = 1.6603145*10**(-27) #kg\n",
    "\n",
    "Mass_amu = mass/amukg\n",
    "\n",
    "print(Mass_amu)"
   ]
  },
  {
   "cell_type": "markdown",
   "metadata": {},
   "source": [
    "# Calculate time to get desired projected coverage on sample"
   ]
  },
  {
   "cell_type": "markdown",
   "metadata": {},
   "source": [
    "## Case 1: Area deposited is greater than the area of the sample"
   ]
  },
  {
   "cell_type": "code",
   "execution_count": 62,
   "metadata": {},
   "outputs": [],
   "source": [
    "######################################################## ENTER VALUES\n",
    "\n",
    "Acover = (((6.23/2)*10**(-3))**2)*math.pi # Total area covered by beam (including sample + mask and raster pattern effect).\n",
    "                                 # This number must be determined experimentally. Aka \"raster area\".    \n",
    "    \n",
    "Asample = ((2.5*10**(-3))**2)*math.pi # Area of sample (smaller than Acover)\n",
    "\n",
    "Goal_coverage= 0.01 # goal coverage - (fraction of area covered by nanoparticles vs the area of the sample). 1% = 0.01 fraction\n",
    "\n",
    "Current = 6*10**(-12) # current measured in C/s. \n",
    "\n",
    "######################################################## "
   ]
  },
  {
   "cell_type": "code",
   "execution_count": 63,
   "metadata": {},
   "outputs": [
    {
     "name": "stdout",
     "output_type": "stream",
     "text": [
      "Time in seconds\n",
      "414.521772\n",
      "Time in minutes and seconds\n",
      "6\n",
      "minutes\n",
      "54.521772\n",
      "seconds\n"
     ]
    }
   ],
   "source": [
    "Rf = Asample/Acover # fraction of charge on sample (vs total charge on sample + surrounding plate). Aka \"sample to spot ratio\".\n",
    "\n",
    "Adep = (Goal_coverage*Asample)/Rf  # Coverage = (Adep*Rf)/Asample, \n",
    "                                    # Adep = total area of the deposited NANOPARTICLES (including sample + mask)\n",
    "N = Adep/(math.pi*(r*10**(-9))**2) # Adep = N*r**2*math.pi    ==> Get number of particles deposited, N\n",
    "                       \n",
    "e = 1.602*10**(-19)\n",
    "charges = Current/e # charges/s = NPs/s (Assume each nanoparticle has one elementary charge)\n",
    "\n",
    "time = N/charges \n",
    "\n",
    "print('Time in seconds')\n",
    "print(time)\n",
    "print('Time in minutes and seconds')\n",
    "time_min = math.floor(time/60)\n",
    "time_sec = time-(time_min*60)\n",
    "print(time_min)\n",
    "print('minutes')\n",
    "print(time_sec)\n",
    "print('seconds')"
   ]
  }
 ],
 "metadata": {
  "kernelspec": {
   "display_name": "Python 3",
   "language": "python",
   "name": "python3"
  },
  "language_info": {
   "codemirror_mode": {
    "name": "ipython",
    "version": 3
   },
   "file_extension": ".py",
   "mimetype": "text/x-python",
   "name": "python",
   "nbconvert_exporter": "python",
   "pygments_lexer": "ipython3",
   "version": "3.8.3"
  }
 },
 "nbformat": 4,
 "nbformat_minor": 4
}
